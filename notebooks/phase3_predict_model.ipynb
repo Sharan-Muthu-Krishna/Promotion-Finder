{
 "cells": [
  {
   "cell_type": "code",
   "execution_count": 1,
   "id": "6b265707",
   "metadata": {},
   "outputs": [],
   "source": [
    "import pickle"
   ]
  },
  {
   "cell_type": "code",
   "execution_count": 3,
   "id": "5ff476b9",
   "metadata": {},
   "outputs": [],
   "source": [
    "\n",
    "with open(\"./models/promo_classifier.pkl\", \"rb\") as f:\n",
    "    model = pickle.load(f)\n",
    "\n",
    "with open(\"./models/tfidf_vectorizer.pkl\", \"rb\") as f:\n",
    "    vectorizer = pickle.load(f)"
   ]
  },
  {
   "cell_type": "code",
   "execution_count": null,
   "id": "5b77e78c",
   "metadata": {},
   "outputs": [],
   "source": [
    "import re\n",
    "\n",
    "def clean_text(text):\n",
    "    text = str(text).lower()\n",
    "    text = re.sub(r\"[^a-zA-Z0-9\\s]\", \"\", text)  \n",
    "    text = re.sub(r\"\\s+\", \" \", text).strip()  \n",
    "    return text"
   ]
  },
  {
   "cell_type": "code",
   "execution_count": 5,
   "id": "03544c67",
   "metadata": {},
   "outputs": [],
   "source": [
    "def predict_promo(text):\n",
    "    cleaned = clean_text(text)\n",
    "    vector = vectorizer.transform([cleaned])\n",
    "    prediction = model.predict(vector)[0]\n",
    "    return \"Promotion\" if prediction else \"Non-Promotion\""
   ]
  },
  {
   "cell_type": "code",
   "execution_count": 7,
   "id": "f52fdc02",
   "metadata": {},
   "outputs": [
    {
     "name": "stdout",
     "output_type": "stream",
     "text": [
      "Promotion\n"
     ]
    }
   ],
   "source": [
    "sample = \"Up to 24% offer on all products!\"\n",
    "print(predict_promo(sample))"
   ]
  },
  {
   "cell_type": "code",
   "execution_count": 8,
   "id": "bedf4697",
   "metadata": {},
   "outputs": [
    {
     "name": "stdout",
     "output_type": "stream",
     "text": [
      "Non-Promotion\n"
     ]
    }
   ],
   "source": [
    "sample = \"New arrivals for summer collection\"\n",
    "print(predict_promo(sample))"
   ]
  }
 ],
 "metadata": {
  "kernelspec": {
   "display_name": "SyncHubb",
   "language": "python",
   "name": "synchubb"
  },
  "language_info": {
   "codemirror_mode": {
    "name": "ipython",
    "version": 3
   },
   "file_extension": ".py",
   "mimetype": "text/x-python",
   "name": "python",
   "nbconvert_exporter": "python",
   "pygments_lexer": "ipython3",
   "version": "3.13.1"
  }
 },
 "nbformat": 4,
 "nbformat_minor": 5
}
